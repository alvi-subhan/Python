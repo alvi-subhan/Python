{
 "cells": [
  {
   "cell_type": "markdown",
   "metadata": {},
   "source": [
    "## 1. Bitcoin. Cryptocurrencies. So hot right now.\n",
    "<p>Since the <a href=\"https://newfronttest.bitcoin.com/bitcoin.pdf\">launch of Bitcoin in 2008</a>, hundreds of similar projects based on the blockchain technology have emerged. We call these cryptocurrencies (also coins or cryptos in the Internet slang). Some are extremely valuable nowadays, and others may have the potential to become extremely valuable in the future<sup>1</sup>. In fact, the 6th of December of 2017 Bitcoin has a <a href=\"https://en.wikipedia.org/wiki/Market_capitalization\">market capitalization</a> above $200 billion. </p>\n",
    "<p><center>\n",
    "<img src=\"https://s3.amazonaws.com/assets.datacamp.com/production/project_82/img/bitcoint_market_cap_2017.png\" style=\"width:500px\"> <br> \n",
    "<em>The astonishing increase of Bitcoin market capitalization in 2017.</em></center></p>\n",
    "<p>*<sup>1</sup>- <strong>WARNING</strong>: The cryptocurrency market is exceptionally volatile and any money you put in might disappear into thin air.  Cryptocurrencies mentioned here <strong>might be scams</strong> similar to <a href=\"https://en.wikipedia.org/wiki/Ponzi_scheme\">Ponzi Schemes</a> or have many other issues (overvaluation, technical, etc.). <strong>Please do not mistake this for investment advice</strong>. *</p>\n",
    "<p>That said, let's get to business. As a first task, we will load the current data from the <a href=\"https://api.coinmarketcap.com\">coinmarketcap API</a> and display it in the output.</p>"
   ]
  },
  {
   "cell_type": "code",
   "execution_count": 6,
   "metadata": {},
   "outputs": [
    {
     "name": "stdout",
     "output_type": "stream",
     "text": [
      "<class 'pandas.core.frame.DataFrame'>\n"
     ]
    }
   ],
   "source": [
    "import urllib.parse, requests,json\n",
    "from matplotlib import pyplot as plt\n",
    "import numpy as np\n",
    "import pandas as pd\n",
    "\n",
    "url=\"https://api.coinmarketcap.com/v1/ticker/\"\n",
    "json_data=requests.get(url).json()\n",
    "\n",
    "json_data=pd.DataFrame(json_data)\n",
    "#json_data\n",
    "print(type(json_data))\n",
    "\n",
    "#print(json_data.count())"
   ]
  },
  {
   "cell_type": "markdown",
   "metadata": {},
   "source": [
    "## 2. Full dataset, filtering, and reproducibility\n",
    "<p>The previous API call returns only the first 100 coins, and we want to explore as many coins as possible. Moreover, we can't produce reproducible analysis with live online data. To solve these problems, we will load a CSV we conveniently saved on the 6th of December of 2017 using the API call <code>https://api.coinmarketcap.com/\n",
    "v1/ticker/?limit=0</code> named <code>datasets/coinmarketcap_06122017.csv</code>. </p>\n"
   ]
  },
  {
   "cell_type": "code",
   "execution_count": null,
   "metadata": {
    "collapsed": true
   },
   "outputs": [
    {
     "data": {
      "text/plain": [
       "id                1326\nmarket_cap_usd    1031\ndtype: int64"
      ]
     },
     "execution_count": 7,
     "metadata": {},
     "output_type": "execute_result"
    }
   ],
   "source": [
    "\n",
    "# Reading datasets/coinmarketcap_06122017.csv into pandas\n",
    "dec6 = pd.read_csv('coinmarketcap_06122017.csv')\n",
    "\n",
    "# Selecting the 'id' and the 'market_cap_usd' columns\n",
    "market_cap_raw = dec6[['id', 'market_cap_usd']]\n",
    "\n",
    "# Counting the number of values\n",
    "# ... YOUR CODE FOR TASK 2 ...\n",
    "market_cap_raw.count()"
   ]
  },
  {
   "cell_type": "markdown",
   "metadata": {},
   "source": [
    "## 3. Discard the cryptocurrencies without a market capitalization\n",
    "<p>Why do the <code>count()</code> for <code>id</code> and <code>market_cap_usd</code> differ above? It is because some cryptocurrencies listed in coinmarketcap.com have no known market capitalization, this is represented by <code>NaN</code> in the data, and <code>NaN</code>s are not counted by <code>count()</code>. These cryptocurrencies are of little interest to us in this analysis, so they are safe to remove.</p>"
   ]
  },
  {
   "cell_type": "code",
   "execution_count": 10,
   "metadata": {
    "collapsed": true
   },
   "outputs": [
    {
     "data": {
      "text/plain": [
       "id                1031\nmarket_cap_usd    1031\ndtype: int64"
      ]
     },
     "execution_count": 10,
     "metadata": {},
     "output_type": "execute_result"
    }
   ],
   "source": [
    "# Filtering out rows without a market capitalization\n",
    "cap = market_cap_raw.query('market_cap_usd > 0')\n",
    "\n",
    "# Counting the number of values again\n",
    "# ... YOUR CODE FOR TASK 3 ...\n",
    "cap.count()"
   ]
  },
  {
   "cell_type": "markdown",
   "metadata": {},
   "source": [
    "## 4. How big is Bitcoin compared with the rest of the cryptocurrencies?\n",
    "<p>At the time of writing, Bitcoin is under serious competition from other projects, but it is still dominant in market capitalization. Let's plot the market capitalization for the top 10 coins as a barplot to better visualize this.</p>"
   ]
  },
  {
   "cell_type": "code",
   "execution_count": 11,
   "metadata": {},
   "outputs": [
    {
     "name": "stderr",
     "output_type": "stream",
     "text": [
      "D:\\anaconda\\lib\\site-packages\\ipykernel_launcher.py:13: SettingWithCopyWarning: \nA value is trying to be set on a copy of a slice from a DataFrame.\nTry using .loc[row_indexer,col_indexer] = value instead\n\nSee the caveats in the documentation: http://pandas.pydata.org/pandas-docs/stable/indexing.html#indexing-view-versus-copy\n  del sys.path[0]\n"
     ]
    },
    {
     "data": {
      "image/png": "[encoded data removed]",
      "text/plain": [
       "<matplotlib.figure.Figure at 0x284a17c4470>"
      ]
     },
     "metadata": {},
     "output_type": "display_data"
    }
   ],
   "source": [
    "\n",
    "#Declaring these now for later use in the plots\n",
    "TOP_CAP_TITLE = 'Top 10 market capitalization'\n",
    "TOP_CAP_YLABEL = '% of total cap'\n",
    "\n",
    "# Selecting the first 10 rows and setting the index\n",
    "cap10=cap.sort_values(by=\"market_cap_usd\",ascending=False)\n",
    "\n",
    "cap10 = cap.head(10)\n",
    "#cap10 = cap10.set_index('id')\n",
    "\n",
    "# Calculating market_cap_perc\n",
    "cap10['market_cap_perc'] = (cap10['market_cap_usd'] / sum(cap['market_cap_usd'])) * 100\n",
    "#cap_for_each=[(caps/total_cap)*100 for caps in top_10[\"market_cap_usd\"]]\n",
    "\n",
    "index = np.arange(10)\n",
    "market_cap_perc = list(cap10.market_cap_perc)\n",
    "label = list(cap10[\"id\"])\n",
    "\n",
    "\n",
    "# Plotting the barplot with the title defined above \n",
    "ax = plt.bar(index, market_cap_perc)\n",
    "\n",
    "# Annotating the y axis with the label defined above\n",
    "# ... YOUR CODE FOR TASK 4 ...\n",
    "plt.xticks(index, label, rotation=90)\n",
    "plt.ylabel(TOP_CAP_YLABEL)\n",
    "plt.title(TOP_CAP_TITLE)\n",
    "plt.show()"
   ]
  },
  {
   "cell_type": "code",
   "execution_count": 12,
   "metadata": {},
   "outputs": [
    {
     "data": {
      "image/png": "[encoded data removed]",
      "text/plain": [
       "<matplotlib.figure.Figure at 0x284a6ee9d30>"
      ]
     },
     "metadata": {},
     "output_type": "display_data"
    }
   ],
   "source": [
    "# Colors for the bar plot\n",
    "COLORS = ['orange', 'green', 'orange', 'cyan', 'cyan', 'blue', 'silver', 'orange', 'red', 'green']\n",
    "#y=[\"10\",\"20\",\"30\",\"40\",\"50\",\"60\",\"70\",\"80\",\"90\",\"100\"]\n",
    "# Plotting market_cap_usd as before but adding the colors and scaling the y-axis  \n",
    "ax = plt.bar(index, market_cap_perc, log = True, color = COLORS)\n",
    "\n",
    "# Annotating the y axis with 'USD'\n",
    "# ... YOUR CODE FOR TASK 5 ...\n",
    "plt.ylabel('USD')\n",
    "\n",
    "# Final touch! Removing the xlabel as it is not very informative\n",
    "# ... YOUR CODE FOR TASK 5 ...\n",
    "plt.xticks(index, label, rotation=90)\n",
    "#plt.yticks(index,market_cap_perc)\n",
    "plt.title(TOP_CAP_TITLE)\n",
    "plt.show()"
   ]
  },
  {
   "cell_type": "markdown",
   "metadata": {},
   "source": [
    "## 6. What is going on?! Volatility in cryptocurrencies\n",
    "<p>The cryptocurrencies market has been spectacularly volatile since the first exchange opened. This notebook didn't start with a big, bold warning for nothing. Let's explore this volatility a bit more! We will begin by selecting and plotting the 24 hours and 7 days percentage change, which we already have available.</p>"
   ]
  },
  {
   "cell_type": "code",
   "execution_count": 13,
   "metadata": {},
   "outputs": [
    {
     "data": {
      "text/html": [
       "<div>\n",
       "<style>\n",
       "    .dataframe thead tr:only-child th {\n",
       "        text-align: right;\n",
       "    }\n",
       "\n",
       "    .dataframe thead th {\n",
       "        text-align: left;\n",
       "    }\n",
       "\n",
       "    .dataframe tbody tr th {\n",
       "        vertical-align: top;\n",
       "    }\n",
       "</style>\n",
       "<table border=\"1\" class=\"dataframe\">\n",
       "  <thead>\n",
       "    <tr style=\"text-align: right;\">\n",
       "      <th></th>\n",
       "      <th>percent_change_24h</th>\n",
       "      <th>percent_change_7d</th>\n",
       "    </tr>\n",
       "    <tr>\n",
       "      <th>id</th>\n",
       "      <th></th>\n",
       "      <th></th>\n",
       "    </tr>\n",
       "  </thead>\n",
       "  <tbody>\n",
       "    <tr>\n",
       "      <th>flappycoin</th>\n",
       "      <td>-95.85</td>\n",
       "      <td>-96.61</td>\n",
       "    </tr>\n",
       "    <tr>\n",
       "      <th>credence-coin</th>\n",
       "      <td>-94.22</td>\n",
       "      <td>-95.31</td>\n",
       "    </tr>\n",
       "    <tr>\n",
       "      <th>coupecoin</th>\n",
       "      <td>-93.93</td>\n",
       "      <td>-61.24</td>\n",
       "    </tr>\n",
       "    <tr>\n",
       "      <th>tyrocoin</th>\n",
       "      <td>-79.02</td>\n",
       "      <td>-87.43</td>\n",
       "    </tr>\n",
       "    <tr>\n",
       "      <th>petrodollar</th>\n",
       "      <td>-76.55</td>\n",
       "      <td>542.96</td>\n",
       "    </tr>\n",
       "    <tr>\n",
       "      <th>bitok</th>\n",
       "      <td>-74.37</td>\n",
       "      <td>-71.67</td>\n",
       "    </tr>\n",
       "    <tr>\n",
       "      <th>bankcoin</th>\n",
       "      <td>-68.56</td>\n",
       "      <td>50.14</td>\n",
       "    </tr>\n",
       "    <tr>\n",
       "      <th>tellurion</th>\n",
       "      <td>-63.75</td>\n",
       "      <td>-52.59</td>\n",
       "    </tr>\n",
       "    <tr>\n",
       "      <th>shadow-token</th>\n",
       "      <td>-61.40</td>\n",
       "      <td>-59.05</td>\n",
       "    </tr>\n",
       "    <tr>\n",
       "      <th>eusd</th>\n",
       "      <td>-58.89</td>\n",
       "      <td>-25.50</td>\n",
       "    </tr>\n",
       "  </tbody>\n",
       "</table>\n",
       "</div>"
      ],
      "text/plain": [
       "<div>\n",
       "<style>\n",
       "    .dataframe thead tr:only-child th {\n",
       "        text-align: right;\n",
       "    }\n",
       "\n",
       "    .dataframe thead th {\n",
       "        text-align: left;\n",
       "    }\n",
       "\n",
       "    .dataframe tbody tr th {\n",
       "        vertical-align: top;\n",
       "    }\n",
       "</style>\n",
       "<table border=\"1\" class=\"dataframe\">\n",
       "  <thead>\n",
       "    <tr style=\"text-align: right;\">\n",
       "      <th></th>\n",
       "      <th>percent_change_24h</th>\n",
       "      <th>percent_change_7d</th>\n",
       "    </tr>\n",
       "    <tr>\n",
       "      <th>id</th>\n",
       "      <th></th>\n",
       "      <th></th>\n",
       "    </tr>\n",
       "  </thead>\n",
       "  <tbody>\n",
       "    <tr>\n",
       "      <th>flappycoin</th>\n",
       "      <td>-95.85</td>\n",
       "      <td>-96.61</td>\n",
       "    </tr>\n",
       "    <tr>\n",
       "      <th>credence-coin</th>\n",
       "      <td>-94.22</td>\n",
       "      <td>-95.31</td>\n",
       "    </tr>\n",
       "    <tr>\n",
       "      <th>coupecoin</th>\n",
       "      <td>-93.93</td>\n",
       "      <td>-61.24</td>\n",
       "    </tr>\n",
       "    <tr>\n",
       "      <th>tyrocoin</th>\n",
       "      <td>-79.02</td>\n",
       "      <td>-87.43</td>\n",
       "    </tr>\n",
       "    <tr>\n",
       "      <th>petrodollar</th>\n",
       "      <td>-76.55</td>\n",
       "      <td>542.96</td>\n",
       "    </tr>\n",
       "    <tr>\n",
       "      <th>bitok</th>\n",
       "      <td>-74.37</td>\n",
       "      <td>-71.67</td>\n",
       "    </tr>\n",
       "    <tr>\n",
       "      <th>bankcoin</th>\n",
       "      <td>-68.56</td>\n",
       "      <td>50.14</td>\n",
       "    </tr>\n",
       "    <tr>\n",
       "      <th>tellurion</th>\n",
       "      <td>-63.75</td>\n",
       "      <td>-52.59</td>\n",
       "    </tr>\n",
       "    <tr>\n",
       "      <th>shadow-token</th>\n",
       "      <td>-61.40</td>\n",
       "      <td>-59.05</td>\n",
       "    </tr>\n",
       "    <tr>\n",
       "      <th>eusd</th>\n",
       "      <td>-58.89</td>\n",
       "      <td>-25.50</td>\n",
       "    </tr>\n",
       "  </tbody>\n",
       "</table>\n",
       "</div>"
      ]
     },
     "execution_count": 13,
     "metadata": {},
     "output_type": "execute_result"
    }
   ],
   "source": [
    "# Selecting the id, percent_change_24h and percent_change_7d columns\n",
    "volatility = dec6[['id', 'percent_change_24h', 'percent_change_7d']]\n",
    "\n",
    "# Setting the index to 'id' and dropping all NaN rows\n",
    "volatility = volatility.set_index('id').dropna()\n",
    "\n",
    "# Sorting the DataFrame by percent_change_24h in ascending order\n",
    "volatility = volatility.sort_values('percent_change_24h')\n",
    "\n",
    "# Checking the first few rows\n",
    "# ... YOUR CODE FOR TASK 6 ...\n",
    "volatility.head(10)"
   ]
  },
  {
   "cell_type": "markdown",
   "metadata": {},
   "source": [
    "## 7. Well, we can already see that things are *a bit* crazy\n",
    "<p>It seems you can lose a lot of money quickly on cryptocurrencies. Let's plot the top 10 biggest gainers and top 10 losers in market capitalization.</p>\n"
   ]
  },
  {
   "cell_type": "code",
   "execution_count": 33,
   "metadata": {},
   "outputs": [
    {
     "data": {
      "image/png": "[encoded data removed]",
      "text/plain": [
       "<matplotlib.figure.Figure at 0x284a8d98ba8>"
      ]
     },
     "metadata": {},
     "output_type": "display_data"
    },
    {
     "ename": "TypeError",
     "evalue": "'NoneType' object is not iterable",
     "traceback": [
      "\u001b[1;31m---------------------------------------------------------------------------\u001b[0m",
      "\u001b[1;31mTypeError\u001b[0m                                 Traceback (most recent call last)",
      "\u001b[1;32m<ipython-input-33-44a573972662>\u001b[0m in \u001b[0;36m<module>\u001b[1;34m()\u001b[0m\n\u001b[0;32m     34\u001b[0m \u001b[1;33m\u001b[0m\u001b[0m\n\u001b[0;32m     35\u001b[0m \u001b[1;31m# Calling the function above with the 24 hours period series and title DTITLE\u001b[0m\u001b[1;33m\u001b[0m\u001b[1;33m\u001b[0m\u001b[0m\n\u001b[1;32m---> 36\u001b[1;33m \u001b[0mfig\u001b[0m\u001b[1;33m,\u001b[0m \u001b[0max\u001b[0m \u001b[1;33m=\u001b[0m\u001b[0mtop10_subplot\u001b[0m\u001b[1;33m(\u001b[0m\u001b[1;34m\"percent_change_24h\"\u001b[0m\u001b[1;33m,\u001b[0m\u001b[0mDTITLE\u001b[0m\u001b[1;33m)\u001b[0m\u001b[1;33m\u001b[0m\u001b[0m\n\u001b[0m\u001b[0;32m     37\u001b[0m \u001b[1;33m\u001b[0m\u001b[0m\n",
      "\u001b[1;31mTypeError\u001b[0m: 'NoneType' object is not iterable"
     ],
     "output_type": "error"
    }
   ],
   "source": [
    "#Defining a function with 2 parameters, the series to plot and the title\n",
    "def top10_subplot(volatility_series, title):\n",
    "    # Making the subplot and the figure for two side by side plots\n",
    "    fig, axes = plt.subplots(nrows=1, ncols=2, figsize=(10, 6))\n",
    "    \n",
    "    # Plotting with pandas the barchart for the top 10 losers\n",
    "    a=volatility\n",
    "    a=a.sort_values(by=volatility_series,ascending=True) #change with volatility series\n",
    "    index=np.arange(10)\n",
    "    top_10_losers=a.head(10)\n",
    "    label=list(top_10_losers.index)\n",
    "    value=list(top_10_losers[volatility_series])\n",
    "    ax=axes[0].bar(index,value,color=\"red\")\n",
    "    plt.xticks(index,label,rotation=90)\n",
    "    axes[0].set_title(\"Losers\", fontsize=15, color='r')\n",
    "    axes[0].set_ylabel(\"Market Capital USD\", fontsize=15)\n",
    "    \n",
    "    fig.suptitle(title)\n",
    "    \n",
    "    a=volatility\n",
    "    a=a.sort_values(by=volatility_series,ascending=False) #change with volatility series\n",
    "    index=np.arange(10)\n",
    "    top_10_winners=a.head(10)\n",
    "    label=list(top_10_winners.index)\n",
    "    value=list(top_10_winners[volatility_series])\n",
    "    ax=axes[1].bar(index,value,color=\"green\")\n",
    "    plt.xticks(index,label,rotation=90)\n",
    "    axes[1].set_title(\"Winners\", fontsize=15, color='g')\n",
    "    axes[1].set_ylabel(\"Market Capital USD\", fontsize=15)\n",
    "    plt.show()\n",
    "    \n",
    "        \n",
    "DTITLE = \"24 hours top losers and winners\"\n",
    "\n",
    "# Calling the function above with the 24 hours period series and title DTITLE  \n",
    "fig, ax =top10_subplot(\"percent_change_24h\",DTITLE)\n",
    "    \n"
   ]
  },
  {
   "cell_type": "code",
   "execution_count": 22,
   "metadata": {},
   "outputs": [
    {
     "data": {
      "image/png": "[encoded data removed]",
      "text/plain": [
       "<matplotlib.figure.Figure at 0x284a8d8cdd8>"
      ]
     },
     "metadata": {},
     "output_type": "display_data"
    }
   ],
   "source": [
    "#Defining a function with 2 parameters, the series to plot and the title\n",
    "def top10_subplot(volatility_series, title):\n",
    "    ax=volatility\n",
    "    ax=ax.sort_values(by=volatility_series,ascending=True) #change with volatility series\n",
    "    index=np.arange(10)\n",
    "    top_10_losers=ax.head(10)\n",
    "    label=list(top_10_losers.index)\n",
    "    value=list(top_10_losers[volatility_series])\n",
    "    plt.xticks(index,label,rotation=90)\n",
    "    plt.bar(index,value,color=\"red\")\n",
    "    \n",
    "    plt.show()\n",
    "top10_subplot(\"percent_change_24h\",\"Tiii\")"
   ]
  },
  {
   "cell_type": "code",
   "execution_count": 19,
   "metadata": {},
   "outputs": [
    {
     "data": {
      "image/png": "[encoded data removed]",
      "text/plain": [
       "<matplotlib.figure.Figure at 0x284a882e7b8>"
      ]
     },
     "metadata": {},
     "output_type": "display_data"
    },
    {
     "ename": "TypeError",
     "evalue": "'NoneType' object is not iterable",
     "traceback": [
      "\u001b[1;31m---------------------------------------------------------------------------\u001b[0m",
      "\u001b[1;31mTypeError\u001b[0m                                 Traceback (most recent call last)",
      "\u001b[1;32m<ipython-input-19-44a573972662>\u001b[0m in \u001b[0;36m<module>\u001b[1;34m()\u001b[0m\n\u001b[0;32m     34\u001b[0m \u001b[1;33m\u001b[0m\u001b[0m\n\u001b[0;32m     35\u001b[0m \u001b[1;31m# Calling the function above with the 24 hours period series and title DTITLE\u001b[0m\u001b[1;33m\u001b[0m\u001b[1;33m\u001b[0m\u001b[0m\n\u001b[1;32m---> 36\u001b[1;33m \u001b[0mfig\u001b[0m\u001b[1;33m,\u001b[0m \u001b[0max\u001b[0m \u001b[1;33m=\u001b[0m\u001b[0mtop10_subplot\u001b[0m\u001b[1;33m(\u001b[0m\u001b[1;34m\"percent_change_24h\"\u001b[0m\u001b[1;33m,\u001b[0m\u001b[0mDTITLE\u001b[0m\u001b[1;33m)\u001b[0m\u001b[1;33m\u001b[0m\u001b[0m\n\u001b[0m\u001b[0;32m     37\u001b[0m \u001b[1;33m\u001b[0m\u001b[0m\n",
      "\u001b[1;31mTypeError\u001b[0m: 'NoneType' object is not iterable"
     ],
     "output_type": "error"
    }
   ],
   "source": [
    "#Defining a function with 2 parameters, the series to plot and the title\n",
    "def top10_subplot(volatility_series, title):\n",
    "    # Making the subplot and the figure for two side by side plots\n",
    "    fig, axes = plt.subplots(nrows=1, ncols=2, figsize=(10, 6))\n",
    "    \n",
    "    # Plotting with pandas the barchart for the top 10 losers\n",
    "    a=volatility\n",
    "    a=a.sort_values(by=volatility_series,ascending=True) #change with volatility series\n",
    "    index=np.arange(10)\n",
    "    top_10_losers=a.head(10)\n",
    "    label=list(top_10_losers.index)\n",
    "    value=list(top_10_losers[volatility_series])\n",
    "    ax=axes[0].bar(index,value,color=\"red\")\n",
    "    plt.xticks(index,label,rotation=90)\n",
    "    axes[0].set_title(\"Losers\", fontsize=15, color='r')\n",
    "    axes[0].set_ylabel(\"Market Capital USD\", fontsize=15)\n",
    "    \n",
    "    fig.suptitle(title)\n",
    "    \n",
    "    a=volatility\n",
    "    a=a.sort_values(by=volatility_series,ascending=False) #change with volatility series\n",
    "    index=np.arange(10)\n",
    "    top_10_winners=a.head(10)\n",
    "    label=list(top_10_winners.index)\n",
    "    value=list(top_10_winners[volatility_series])\n",
    "    ax=axes[1].bar(index,value,color=\"green\")\n",
    "    plt.xticks(index,label,rotation=90)\n",
    "    axes[1].set_title(\"Winners\", fontsize=15, color='g')\n",
    "    axes[1].set_ylabel(\"Market Capital USD\", fontsize=15)\n",
    "    plt.show()\n",
    "    \n",
    "        \n",
    "DTITLE = \"24 hours top losers and winners\"\n",
    "\n",
    "# Calling the function above with the 24 hours period series and title DTITLE  \n",
    "fig, ax =top10_subplot(\"percent_change_24h\",DTITLE)\n",
    "    \n"
   ]
  },
  {
   "cell_type": "markdown",
   "metadata": {},
   "source": [
    "## 8. Ok, those are... interesting. Let's check the weekly Series too.\n",
    "<p>800% daily increase?! Why are we doing this tutorial and not buying random coins?<sup>1</sup></p>\n",
    "<p>After calming down, let's reuse the function defined above to see what is going weekly instead of daily.</p>\n",
    "<p><em><sup>1</sup> Please take a moment to understand the implications of the red plots on how much value some cryptocurrencies lose in such short periods of time</em></p>"
   ]
  },
  {
   "cell_type": "code",
   "execution_count": 34,
   "metadata": {},
   "outputs": [
    {
     "data": {
      "image/png": "[encoded data removed]",
      "text/plain": [
       "<matplotlib.figure.Figure at 0x284a89748d0>"
      ]
     },
     "metadata": {},
     "output_type": "display_data"
    },
    {
     "ename": "TypeError",
     "evalue": "'NoneType' object is not iterable",
     "traceback": [
      "\u001b[1;31m---------------------------------------------------------------------------\u001b[0m",
      "\u001b[1;31mTypeError\u001b[0m                                 Traceback (most recent call last)",
      "\u001b[1;32m<ipython-input-34-34412db662aa>\u001b[0m in \u001b[0;36m<module>\u001b[1;34m()\u001b[0m\n\u001b[0;32m      5\u001b[0m \u001b[1;33m\u001b[0m\u001b[0m\n\u001b[0;32m      6\u001b[0m \u001b[1;31m# Calling the top10_subplot function\u001b[0m\u001b[1;33m\u001b[0m\u001b[1;33m\u001b[0m\u001b[0m\n\u001b[1;32m----> 7\u001b[1;33m \u001b[0mfig\u001b[0m\u001b[1;33m,\u001b[0m \u001b[0max\u001b[0m \u001b[1;33m=\u001b[0m\u001b[0mtop10_subplot\u001b[0m\u001b[1;33m(\u001b[0m\u001b[1;34m\"percent_change_7d\"\u001b[0m\u001b[1;33m,\u001b[0m\u001b[0mWTITLE\u001b[0m\u001b[1;33m)\u001b[0m\u001b[1;33m\u001b[0m\u001b[0m\n\u001b[0m",
      "\u001b[1;31mTypeError\u001b[0m: 'NoneType' object is not iterable"
     ],
     "output_type": "error"
    }
   ],
   "source": [
    "# Sorting in ascending order\n",
    "#volatility7d\n",
    "\n",
    "WTITLE = \"Weekly top losers and winners\"\n",
    "\n",
    "# Calling the top10_subplot function\n",
    "fig, ax =top10_subplot(\"percent_change_7d\",WTITLE)\n"
   ]
  },
  {
   "cell_type": "markdown",
   "metadata": {},
   "source": [
    "## 9. How small is small?\n",
    "<p>The names of the cryptocurrencies above are quite unknown, and there is a considerable fluctuation between the 1 and 7 days percentage changes. As with stocks, and many other financial products, the smaller the capitalization, the bigger the risk and reward. Smaller cryptocurrencies are less stable projects in general, and therefore even riskier investments than the bigger ones<sup>1</sup>. Let's classify our dataset based on Investopedia's capitalization <a href=\"https://www.investopedia.com/video/play/large-cap/\">definitions</a> for company stocks. </p>\n",
    "<p><sup>1</sup> <em>Cryptocurrencies are a new asset class, so they are not directly comparable to stocks. Furthermore, there are no limits set in stone for what a \"small\" or \"large\" stock is. Finally, some investors argue that bitcoin is similar to gold, this would make them more comparable to a <a href=\"https://www.investopedia.com/terms/c/commodity.asp\">commodity</a> instead.</em></p>"
   ]
  },
  {
   "cell_type": "code",
   "execution_count": 32,
   "metadata": {},
   "outputs": [
    {
     "data": {
      "text/html": [
       "<div>\n",
       "<style>\n",
       "    .dataframe thead tr:only-child th {\n",
       "        text-align: right;\n",
       "    }\n",
       "\n",
       "    .dataframe thead th {\n",
       "        text-align: left;\n",
       "    }\n",
       "\n",
       "    .dataframe tbody tr th {\n",
       "        vertical-align: top;\n",
       "    }\n",
       "</style>\n",
       "<table border=\"1\" class=\"dataframe\">\n",
       "  <thead>\n",
       "    <tr style=\"text-align: right;\">\n",
       "      <th></th>\n",
       "      <th>id</th>\n",
       "      <th>market_cap_usd</th>\n",
       "    </tr>\n",
       "  </thead>\n",
       "  <tbody>\n",
       "    <tr>\n",
       "      <th>0</th>\n",
       "      <td>bitcoin</td>\n",
       "      <td>2.130493e+11</td>\n",
       "    </tr>\n",
       "    <tr>\n",
       "      <th>1</th>\n",
       "      <td>ethereum</td>\n",
       "      <td>4.352945e+10</td>\n",
       "    </tr>\n",
       "    <tr>\n",
       "      <th>2</th>\n",
       "      <td>bitcoin-cash</td>\n",
       "      <td>2.529585e+10</td>\n",
       "    </tr>\n",
       "    <tr>\n",
       "      <th>3</th>\n",
       "      <td>iota</td>\n",
       "      <td>1.475225e+10</td>\n",
       "    </tr>\n",
       "    <tr>\n",
       "      <th>4</th>\n",
       "      <td>ripple</td>\n",
       "      <td>9.365343e+09</td>\n",
       "    </tr>\n",
       "    <tr>\n",
       "      <th>5</th>\n",
       "      <td>dash</td>\n",
       "      <td>5.794076e+09</td>\n",
       "    </tr>\n",
       "    <tr>\n",
       "      <th>6</th>\n",
       "      <td>litecoin</td>\n",
       "      <td>5.634498e+09</td>\n",
       "    </tr>\n",
       "    <tr>\n",
       "      <th>7</th>\n",
       "      <td>bitcoin-gold</td>\n",
       "      <td>4.920065e+09</td>\n",
       "    </tr>\n",
       "    <tr>\n",
       "      <th>8</th>\n",
       "      <td>monero</td>\n",
       "      <td>4.331688e+09</td>\n",
       "    </tr>\n",
       "    <tr>\n",
       "      <th>9</th>\n",
       "      <td>cardano</td>\n",
       "      <td>3.231420e+09</td>\n",
       "    </tr>\n",
       "    <tr>\n",
       "      <th>10</th>\n",
       "      <td>ethereum-classic</td>\n",
       "      <td>2.866555e+09</td>\n",
       "    </tr>\n",
       "    <tr>\n",
       "      <th>11</th>\n",
       "      <td>nem</td>\n",
       "      <td>2.583927e+09</td>\n",
       "    </tr>\n",
       "    <tr>\n",
       "      <th>12</th>\n",
       "      <td>eos</td>\n",
       "      <td>2.567610e+09</td>\n",
       "    </tr>\n",
       "    <tr>\n",
       "      <th>13</th>\n",
       "      <td>neo</td>\n",
       "      <td>2.452898e+09</td>\n",
       "    </tr>\n",
       "    <tr>\n",
       "      <th>14</th>\n",
       "      <td>stellar</td>\n",
       "      <td>2.407074e+09</td>\n",
       "    </tr>\n",
       "    <tr>\n",
       "      <th>15</th>\n",
       "      <td>monacoin</td>\n",
       "      <td>1.119571e+09</td>\n",
       "    </tr>\n",
       "    <tr>\n",
       "      <th>16</th>\n",
       "      <td>bitconnect</td>\n",
       "      <td>1.106525e+09</td>\n",
       "    </tr>\n",
       "    <tr>\n",
       "      <th>17</th>\n",
       "      <td>lisk</td>\n",
       "      <td>1.046840e+09</td>\n",
       "    </tr>\n",
       "  </tbody>\n",
       "</table>\n",
       "</div>"
      ],
      "text/plain": [
       "<div>\n",
       "<style>\n",
       "    .dataframe thead tr:only-child th {\n",
       "        text-align: right;\n",
       "    }\n",
       "\n",
       "    .dataframe thead th {\n",
       "        text-align: left;\n",
       "    }\n",
       "\n",
       "    .dataframe tbody tr th {\n",
       "        vertical-align: top;\n",
       "    }\n",
       "</style>\n",
       "<table border=\"1\" class=\"dataframe\">\n",
       "  <thead>\n",
       "    <tr style=\"text-align: right;\">\n",
       "      <th></th>\n",
       "      <th>id</th>\n",
       "      <th>market_cap_usd</th>\n",
       "    </tr>\n",
       "  </thead>\n",
       "  <tbody>\n",
       "    <tr>\n",
       "      <th>0</th>\n",
       "      <td>bitcoin</td>\n",
       "      <td>2.130493e+11</td>\n",
       "    </tr>\n",
       "    <tr>\n",
       "      <th>1</th>\n",
       "      <td>ethereum</td>\n",
       "      <td>4.352945e+10</td>\n",
       "    </tr>\n",
       "    <tr>\n",
       "      <th>2</th>\n",
       "      <td>bitcoin-cash</td>\n",
       "      <td>2.529585e+10</td>\n",
       "    </tr>\n",
       "    <tr>\n",
       "      <th>3</th>\n",
       "      <td>iota</td>\n",
       "      <td>1.475225e+10</td>\n",
       "    </tr>\n",
       "    <tr>\n",
       "      <th>4</th>\n",
       "      <td>ripple</td>\n",
       "      <td>9.365343e+09</td>\n",
       "    </tr>\n",
       "    <tr>\n",
       "      <th>5</th>\n",
       "      <td>dash</td>\n",
       "      <td>5.794076e+09</td>\n",
       "    </tr>\n",
       "    <tr>\n",
       "      <th>6</th>\n",
       "      <td>litecoin</td>\n",
       "      <td>5.634498e+09</td>\n",
       "    </tr>\n",
       "    <tr>\n",
       "      <th>7</th>\n",
       "      <td>bitcoin-gold</td>\n",
       "      <td>4.920065e+09</td>\n",
       "    </tr>\n",
       "    <tr>\n",
       "      <th>8</th>\n",
       "      <td>monero</td>\n",
       "      <td>4.331688e+09</td>\n",
       "    </tr>\n",
       "    <tr>\n",
       "      <th>9</th>\n",
       "      <td>cardano</td>\n",
       "      <td>3.231420e+09</td>\n",
       "    </tr>\n",
       "    <tr>\n",
       "      <th>10</th>\n",
       "      <td>ethereum-classic</td>\n",
       "      <td>2.866555e+09</td>\n",
       "    </tr>\n",
       "    <tr>\n",
       "      <th>11</th>\n",
       "      <td>nem</td>\n",
       "      <td>2.583927e+09</td>\n",
       "    </tr>\n",
       "    <tr>\n",
       "      <th>12</th>\n",
       "      <td>eos</td>\n",
       "      <td>2.567610e+09</td>\n",
       "    </tr>\n",
       "    <tr>\n",
       "      <th>13</th>\n",
       "      <td>neo</td>\n",
       "      <td>2.452898e+09</td>\n",
       "    </tr>\n",
       "    <tr>\n",
       "      <th>14</th>\n",
       "      <td>stellar</td>\n",
       "      <td>2.407074e+09</td>\n",
       "    </tr>\n",
       "    <tr>\n",
       "      <th>15</th>\n",
       "      <td>monacoin</td>\n",
       "      <td>1.119571e+09</td>\n",
       "    </tr>\n",
       "    <tr>\n",
       "      <th>16</th>\n",
       "      <td>bitconnect</td>\n",
       "      <td>1.106525e+09</td>\n",
       "    </tr>\n",
       "    <tr>\n",
       "      <th>17</th>\n",
       "      <td>lisk</td>\n",
       "      <td>1.046840e+09</td>\n",
       "    </tr>\n",
       "  </tbody>\n",
       "</table>\n",
       "</div>"
      ]
     },
     "execution_count": 32,
     "metadata": {},
     "output_type": "execute_result"
    }
   ],
   "source": [
    "# Selecting everything bigger than 10 billion \n",
    "largecaps =cap.query('market_cap_usd>1000000000')\n",
    "\n",
    "# Printing out largecaps\n",
    "largecaps\n",
    "# ... YOUR CODE FOR TASK 9 ..."
   ]
  },
  {
   "cell_type": "markdown",
   "metadata": {},
   "source": [
    "## 10. Most coins are tiny\n",
    "<p>Note that many coins are not comparable to large companies in market cap, so let's divert from the original Investopedia definition by merging categories.</p>\n",
    "<p><em>This is all for now. Thanks for completing this project!</em></p>"
   ]
  },
  {
   "cell_type": "code",
   "execution_count": 25,
   "metadata": {},
   "outputs": [
    {
     "data": {
      "image/png": "[encoded data removed]",
      "text/plain": [
       "<matplotlib.figure.Figure at 0x289a7121470>"
      ]
     },
     "metadata": {},
     "output_type": "display_data"
    }
   ],
   "source": [
    "# Making a nice function for counting different marketcaps from the\n",
    "# \"cap\" DataFrame. Returns an int.\n",
    "# INSTRUCTORS NOTE: Since you made it to the end, consider it a gift :D\n",
    "def capcount(query_string):\n",
    "    return final_data.query(query_string).count().id\n",
    "\n",
    "# Labels for the plot\n",
    "LABELS = [\"biggish\", \"micro\", \"nano\"]\n",
    "\n",
    "# Using capcount count the biggish cryptos\n",
    "biggish = capcount('market_cap_usd >= 300000000')\n",
    "\n",
    "# Same as above for micro ...\n",
    "micro = capcount('market_cap_usd < 300000000 & market_cap_usd >= 50000000')\n",
    "\n",
    "# ... and for nano\n",
    "nano =  capcount('market_cap_usd <= 50000000')\n",
    "\n",
    "\n",
    "# Making a list with the 3 counts\n",
    "values = [biggish, micro, nano]\n",
    "\n",
    "\n",
    "# Plotting them with matplotlib \n",
    "# ... YOUR CODE FOR TASK 10 ...\n",
    "\n",
    "plt.bar(range(len(LABELS)), values)\n",
    "plt.title(\"3 categories of crypto currencies\")\n",
    "plt.ylabel('Market Capital in USD')\n",
    "plt.xticks([i for i,_ in enumerate(LABELS)],LABELS)\n",
    "plt.show()"
   ]
  }
 ],
 "metadata": {
  "kernelspec": {
   "display_name": "Python 2",
   "language": "python",
   "name": "python2"
  },
  "language_info": {
   "codemirror_mode": {
    "name": "ipython",
    "version": 2
   },
   "file_extension": ".py",
   "mimetype": "text/x-python",
   "name": "python",
   "nbconvert_exporter": "python",
   "pygments_lexer": "ipython2",
   "version": "2.7.6"
  }
 },
 "nbformat": 4,
 "nbformat_minor": 0
}
