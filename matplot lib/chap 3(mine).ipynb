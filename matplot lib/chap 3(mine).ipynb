{
 "cells": [
  {
   "cell_type": "markdown",
   "metadata": {
    "collapsed": true
   },
   "source": [
    "#chart is a graphical representation of numerical data\n",
    "from matplotlib import pyplot as plt\n",
    "lis1=[x for x in range(1,21)]\n",
    "\n",
    "lis2=[y*5 for y in lis1]\n",
    "\n",
    "print(lis2)\n",
    "\n",
    "plt.plot(lis1, lis2, color='green', marker='0', linestyle='solid')\n",
    "\n",
    "# add a title\n",
    "plt.title(\"kuch bhi\")\n",
    "# add a label to the y-axis\n",
    "plt.ylabel('multiple of 5')\n",
    "plt.show()\n"
   ]
  },
  {
   "cell_type": "code",
   "execution_count": null,
   "metadata": {},
   "outputs": [],
   "source": []
  },
  {
   "cell_type": "code",
   "execution_count": null,
   "metadata": {},
   "outputs": [],
   "source": []
  },
  {
   "cell_type": "code",
   "execution_count": null,
   "metadata": {},
   "outputs": [],
   "source": []
  },
  {
   "cell_type": "code",
   "execution_count": null,
   "metadata": {},
   "outputs": [],
   "source": []
  }
 ],
 "metadata": {
  "kernelspec": {
   "display_name": "Python 2",
   "language": "python",
   "name": "python2"
  },
  "language_info": {
   "codemirror_mode": {
    "name": "ipython",
    "version": 2
   },
   "file_extension": ".py",
   "mimetype": "text/x-python",
   "name": "python",
   "nbconvert_exporter": "python",
   "pygments_lexer": "ipython2",
   "version": "2.7.6"
  }
 },
 "nbformat": 4,
 "nbformat_minor": 0
}
